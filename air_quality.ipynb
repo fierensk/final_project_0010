{
 "cells": [
  {
   "cell_type": "code",
   "execution_count": 2,
   "metadata": {},
   "outputs": [],
   "source": []
  },
  {
   "cell_type": "code",
   "execution_count": null,
   "metadata": {},
   "outputs": [],
   "source": [
    "# pared down to pittsburgh only\n",
    "# locate neighborhood by zip (easiest for air)\n",
    "# find release amount in weight per neighborhood\n",
    "    # column name: REL_EST_AMT\n",
    "    # filter when col = 0"
   ]
  },
  {
   "cell_type": "code",
   "execution_count": 11,
   "metadata": {},
   "outputs": [
    {
     "name": "stdout",
     "output_type": "stream",
     "text": [
      "[15201 15202 15203 15204 15205 15206 15207 15208 15212 15215 15218 15219\n",
      " 15220 15224 15225 15226 15233 15236 15238 15239 15275]\n"
     ]
    }
   ],
   "source": [
    "import pandas as pd\n",
    "import fpsnippets\n",
    "\n",
    "air = pd.read_csv(\"filtered_tri_air.csv\", usecols = ['CITY_NAME','COUNTY_NAME', 'ZIP_CODE', 'CARCINOGEN','REL_EST_AMT'])\n",
    "pittsburgh = air['CITY_NAME'] == \"PITTSBURGH\"\n",
    "allegheny= air['COUNTY_NAME']== \"ALLEGHENY\"\n",
    "air = air[pittsburgh & allegheny]\n",
    "\n",
    "#get zips and trim to 5 char zips\n",
    "air = air[air['ZIP_CODE'].astype(str).str.len() <= 5]\n",
    "air['ZIP_CODE'] = air['ZIP_CODE'].astype(int)\n",
    "zips = air['ZIP_CODE'].unique()\n",
    "zips.sort()\n",
    "print(zips)\n",
    "#zip\n",
    "#fpsnippets.zip_to_neighborhood(zip)"
   ]
  },
  {
   "cell_type": "code",
   "execution_count": null,
   "metadata": {},
   "outputs": [],
   "source": []
  }
 ],
 "metadata": {
  "kernelspec": {
   "display_name": "Python 3",
   "language": "python",
   "name": "python3"
  },
  "language_info": {
   "codemirror_mode": {
    "name": "ipython",
    "version": 3
   },
   "file_extension": ".py",
   "mimetype": "text/x-python",
   "name": "python",
   "nbconvert_exporter": "python",
   "pygments_lexer": "ipython3",
   "version": "3.8.3"
  }
 },
 "nbformat": 4,
 "nbformat_minor": 4
}
