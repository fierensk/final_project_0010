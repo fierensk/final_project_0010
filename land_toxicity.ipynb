{
 "cells": [
  {
   "cell_type": "markdown",
   "metadata": {},
   "source": [
    "Let's analyze the data for Toxic Release emissions on Land:"
   ]
  },
  {
   "cell_type": "code",
   "execution_count": 1,
   "metadata": {},
   "outputs": [],
   "source": [
    "import pandas as pd\n",
    "import fpsnippets\n",
    "import geopandas\n",
    "%matplotlib inline\n",
    "import matplotlib.pyplot as plt"
   ]
  },
  {
   "cell_type": "code",
   "execution_count": 2,
   "metadata": {},
   "outputs": [],
   "source": [
    "data = pd.read_csv(\"land-toxic-release.csv\",  usecols = ['CITY_NAME','COUNTY_NAME', 'STATE_ABBR', 'ZIP_CODE', 'REPORTING_YEAR', 'CHEM_NAME', 'CARCINOGEN'])"
   ]
  },
  {
   "cell_type": "code",
   "execution_count": 3,
   "metadata": {},
   "outputs": [],
   "source": [
    "stateMask = data['STATE_ABBR'] == \"PA\" #create masks\n",
    "cityMask = data['CITY_NAME'] == \"PITTSBURGH\"\n",
    "countyMask = data['COUNTY_NAME']== \"ALLEGHENY\"\n",
    "\n",
    "#let's use these query masks to get only the info for Allegheny County in Pittsburgh,PA\n",
    "relevantData = data[stateMask & cityMask & countyMask]"
   ]
  },
  {
   "cell_type": "code",
   "execution_count": 23,
   "metadata": {},
   "outputs": [
    {
     "name": "stdout",
     "output_type": "stream",
     "text": [
      "15203 : 0  Carcinogens found\n",
      "Neighborhoods in zip 15203 : ['Arlington Heights', 'Allentown', 'South Side Slopes', 'Arlington', 'Mount Washington', 'South Shore', 'South Side Flats'] \n",
      "\n",
      "15204 : 0  Carcinogens found\n",
      "Neighborhoods in zip 15204 : ['Fairywood', 'Crafton Heights', 'Chartiers City', 'Esplen', 'Sheraden', 'Windgap', 'Elliott'] \n",
      "\n",
      "15205 : 0  Carcinogens found\n",
      "Neighborhoods in zip 15205 : ['Oakwood', 'Westwood', 'Fairywood', 'East Carnegie', 'Crafton Heights', 'Windgap'] \n",
      "\n",
      "15206 : 0  Carcinogens found\n",
      "Neighborhoods in zip 15206 : ['Point Breeze North', 'Squirrel Hill North', 'Garfield', 'East Liberty', 'Morningside', 'Homewood North', 'Larimer', 'Lincoln-Lemington-Belmar', 'Highland Park', 'Friendship', 'Homewood West', 'Bloomfield', 'Point Breeze', 'Stanton Heights', 'Shadyside'] \n",
      "\n",
      "15207 : 0  Carcinogens found\n",
      "Neighborhoods in zip 15207 : ['Glen Hazel', 'Lincoln Place', 'Hays', 'Greenfield', 'New Homestead', 'Hazelwood', 'South Oakland', 'Squirrel Hill South'] \n",
      "\n",
      "15208 : 0  Carcinogens found\n",
      "Neighborhoods in zip 15208 : ['Point Breeze North', 'Homewood South', 'Homewood North', 'Larimer', 'Lincoln-Lemington-Belmar', 'Homewood West', 'East Hills', 'Point Breeze', 'Shadyside'] \n",
      "\n",
      "15218 : 0  Carcinogens found\n",
      "Neighborhoods in zip 15218 : ['Squirrel Hill South', 'Swisshelm Park', 'Regent Square'] \n",
      "\n",
      "15219 : 0  Carcinogens found\n",
      "Neighborhoods in zip 15219 : ['Bedford Dwellings', 'Middle Hill', 'North Oakland', 'Lower Lawrenceville', 'Bluff', 'Polish Hill', 'Central Business District', 'South Side Slopes', 'West End', 'Crawford-Roberts', 'South Oakland', 'Upper Hill', 'South Shore', 'Chateau', 'West Oakland', 'Strip District', 'Terrace Village', 'South Side Flats'] \n",
      "\n",
      "15220 : 0  Carcinogens found\n",
      "Neighborhoods in zip 15220 : ['Duquesne Heights', 'Westwood', 'Crafton Heights', 'Banksville', 'Mount Washington', 'West End', 'Ridgemont', 'South Shore', 'Sheraden', 'Beechview', 'Elliott'] \n",
      "\n",
      "15224 : 0  Carcinogens found\n",
      "Neighborhoods in zip 15224 : ['Garfield', 'East Liberty', 'Lower Lawrenceville', 'Bloomfield', 'Central Lawrenceville', 'Stanton Heights', 'Shadyside'] \n",
      "\n",
      "15236 : 0  Carcinogens found\n",
      "Neighborhoods in zip 15236 : ['Hays'] \n",
      "\n",
      "15238 : 0  Carcinogens found\n",
      "Neighborhoods in zip 15238 : ['Lincoln-Lemington-Belmar'] \n",
      "\n",
      "152059724 : 0  Carcinogens found\n",
      "Neighborhoods in zip 152059724 : None \n",
      "\n",
      "152152016 : 0  Carcinogens found\n",
      "Neighborhoods in zip 152152016 : None \n",
      "\n",
      "152152640 : 0  Carcinogens found\n",
      "Neighborhoods in zip 152152640 : None \n",
      "\n",
      "152206246 : 0  Carcinogens found\n",
      "Neighborhoods in zip 152206246 : None \n",
      "\n",
      "152224791 : 0  Carcinogens found\n",
      "Neighborhoods in zip 152224791 : None \n",
      "\n",
      "152342624 : 0  Carcinogens found\n",
      "Neighborhoods in zip 152342624 : None \n",
      "\n",
      "152381328 : 0  Carcinogens found\n",
      "Neighborhoods in zip 152381328 : None \n",
      "\n"
     ]
    }
   ],
   "source": [
    "#Getting a list of unique zip codes in the area\n",
    "zips = relevantData['ZIP_CODE'].unique()\n",
    "zips.sort()\n",
    "landDict=dict()\n",
    "\n",
    "#Now, let's count the number of carniogens found in each zip code\n",
    "x = 0;\n",
    "for zip in zips:\n",
    "    carcCounter = 0;\n",
    "    mask = relevantData['ZIP_CODE'] == zip\n",
    "    maskedData = relevantData[mask]\n",
    "    for row in maskedData:\n",
    "        carcYorN = relevantData.iloc[x,6]\n",
    "        if carcYorN == \"Y\":\n",
    "            carcCounter = carcCounter + 1\n",
    "        x = x + 1\n",
    "#Here, we're keeping a count of the carcinogens in each neighborhood\n",
    "    neighborhoods = fpsnippets.zip_to_neighborhoods(zip)\n",
    "    if neighborhoods is not None:\n",
    "        for neighborhood in neighborhoods:\n",
    "            if neighborhood in landDict:\n",
    "                landDict[neighborhood] += carcCounter\n",
    "            else: \n",
    "                landDict[neighborhood] = carcCounter\n",
    "#Let's print the zips and neighborhoods with no carcinogens found\n",
    "#just to see them\n",
    "    if carcCounter == 0:\n",
    "        print(zip, \":\", carcCounter, \" Carcinogens found\")\n",
    "        print(\"Neighborhoods in zip\", zip, \":\", fpsnippets.zip_to_neighborhoods(zip), \"\\n\")"
   ]
  },
  {
   "cell_type": "code",
   "execution_count": 30,
   "metadata": {},
   "outputs": [
    {
     "name": "stdout",
     "output_type": "stream",
     "text": [
      "{'Garfield': 4, 'East Liberty': 4, 'Morningside': 4, 'Lower Lawrenceville': 4, 'Polish Hill': 4, 'Bloomfield': 4, 'Central Lawrenceville': 4, 'Stanton Heights': 4, 'Strip District': 4, 'Upper Lawrenceville': 4, 'Marshall-Shadeland': 14, 'Brighton Heights': 14, 'Arlington Heights': 0, 'Allentown': 0, 'South Side Slopes': 0, 'Arlington': 0, 'Mount Washington': 4, 'South Shore': 0, 'South Side Flats': 0, 'Fairywood': 0, 'Crafton Heights': 0, 'Chartiers City': 0, 'Esplen': 0, 'Sheraden': 0, 'Windgap': 0, 'Elliott': 0, 'Oakwood': 0, 'Westwood': 0, 'East Carnegie': 0, 'Point Breeze North': 0, 'Squirrel Hill North': 0, 'Homewood North': 0, 'Larimer': 0, 'Lincoln-Lemington-Belmar': 1, 'Highland Park': 0, 'Friendship': 0, 'Homewood West': 0, 'Point Breeze': 0, 'Shadyside': 0, 'Glen Hazel': 0, 'Lincoln Place': 0, 'Hays': 0, 'Greenfield': 0, 'New Homestead': 0, 'Hazelwood': 0, 'South Oakland': 0, 'Squirrel Hill South': 0, 'Homewood South': 0, 'East Hills': 0, 'Perry North': 4, 'Northview Heights': 4, 'North Shore': 9, 'Allegheny West': 9, 'Manchester': 9, 'Central Northside': 9, 'East Allegheny': 4, 'Allegheny Center': 9, 'Troy Hill': 4, 'California-Kirkbride': 9, 'Spring Hill-City View': 4, 'Chateau': 9, 'Spring Garden': 4, 'Perry South': 4, 'Fineview': 4, 'Swisshelm Park': 0, 'Regent Square': 0, 'Bedford Dwellings': 0, 'Middle Hill': 0, 'North Oakland': 0, 'Bluff': 0, 'Central Business District': 0, 'West End': 0, 'Crawford-Roberts': 0, 'Upper Hill': 0, 'West Oakland': 0, 'Terrace Village': 0, 'Duquesne Heights': 0, 'Banksville': 0, 'Ridgemont': 0, 'Beechview': 4, 'Brookline': 4, 'Beltzhoover': 4, 'Bon Air': 4, 'Overbrook': 4, 'Carrick': 4}\n"
     ]
    }
   ],
   "source": [
    "print(landDict) #Let's check the dictionary"
   ]
  },
  {
   "cell_type": "code",
   "execution_count": 1,
   "metadata": {},
   "outputs": [
    {
     "ename": "NameError",
     "evalue": "name 'landDict' is not defined",
     "output_type": "error",
     "traceback": [
      "\u001b[0;31m---------------------------------------------------------------------------\u001b[0m",
      "\u001b[0;31mNameError\u001b[0m                                 Traceback (most recent call last)",
      "\u001b[0;32m<ipython-input-1-a49d15c9a0a5>\u001b[0m in \u001b[0;36m<module>\u001b[0;34m\u001b[0m\n\u001b[1;32m      1\u001b[0m \u001b[0;31m#Sort data\u001b[0m\u001b[0;34m\u001b[0m\u001b[0;34m\u001b[0m\u001b[0;34m\u001b[0m\u001b[0m\n\u001b[0;32m----> 2\u001b[0;31m \u001b[0msortedLandDict\u001b[0m \u001b[0;34m=\u001b[0m \u001b[0mdict\u001b[0m\u001b[0;34m(\u001b[0m\u001b[0msorted\u001b[0m\u001b[0;34m(\u001b[0m\u001b[0mlandDict\u001b[0m\u001b[0;34m.\u001b[0m\u001b[0mitems\u001b[0m\u001b[0;34m(\u001b[0m\u001b[0;34m)\u001b[0m\u001b[0;34m,\u001b[0m \u001b[0mkey\u001b[0m\u001b[0;34m=\u001b[0m\u001b[0;32mlambda\u001b[0m \u001b[0mitem\u001b[0m\u001b[0;34m:\u001b[0m \u001b[0mitem\u001b[0m\u001b[0;34m[\u001b[0m\u001b[0;36m1\u001b[0m\u001b[0;34m]\u001b[0m\u001b[0;34m)\u001b[0m\u001b[0;34m)\u001b[0m\u001b[0;34m\u001b[0m\u001b[0;34m\u001b[0m\u001b[0m\n\u001b[0m\u001b[1;32m      3\u001b[0m \u001b[0mlandDF\u001b[0m \u001b[0;34m=\u001b[0m \u001b[0mpd\u001b[0m\u001b[0;34m.\u001b[0m\u001b[0mSeries\u001b[0m\u001b[0;34m(\u001b[0m\u001b[0msortedLandDict\u001b[0m\u001b[0;34m)\u001b[0m\u001b[0;34m.\u001b[0m\u001b[0mto_frame\u001b[0m\u001b[0;34m(\u001b[0m\u001b[0;34m)\u001b[0m\u001b[0;34m\u001b[0m\u001b[0;34m\u001b[0m\u001b[0m\n\u001b[1;32m      4\u001b[0m \u001b[0;34m\u001b[0m\u001b[0m\n\u001b[1;32m      5\u001b[0m \u001b[0;31m#Create a bargraph of info using matlib\u001b[0m\u001b[0;34m\u001b[0m\u001b[0;34m\u001b[0m\u001b[0;34m\u001b[0m\u001b[0m\n",
      "\u001b[0;31mNameError\u001b[0m: name 'landDict' is not defined"
     ]
    }
   ],
   "source": [
    "#Sort data\n",
    "sortedLandDict = dict(sorted(landDict.items(), key=lambda item: item[1]))\n",
    "landDF = pd.Series(sortedLandDict).to_frame()\n",
    "\n",
    "#Create a bargraph of info using matlib\n",
    "plt.figure(figsize=(12, 6)) \n",
    "plt.bar(landDF.index, landDF[0])\n",
    "plt.xlabel(\"Neighborhoods\")  \n",
    "plt.ylabel(\"Number of Recorded Dumps\")  \n",
    "plt.title(\"Number of Carginogen Dumps in Land per Neighborhood\") \n",
    "plt.xticks(rotation=90)  \n",
    "plt.tight_layout()\n",
    "plt.show()\n",
    "\n",
    "#Create a map using geopadas\n",
    "neighborhoods = geopandas.read_file(\"Neighborhoods/Neighborhoods_.shp\")\n",
    "landMap = neighborhoods.merge(landDF, how='left', left_on='hood', right_index=True)\n",
    "\n",
    "landMap.plot(column= 0, \n",
    "               cmap='OrRd',             \n",
    "               edgecolor=\"white\",        \n",
    "               legend=True,  \n",
    "               legend_kwds={'label': \"Number of Carcinogen Dumps\"}, \n",
    "               figsize=(15, 10),         \n",
    "               missing_kwds={\"color\": \"lightgrey\"} \n",
    "               )\n",
    "plt.title(\"Number of Carcinogen Dumps onto Land per Neighborhood\")"
   ]
  },
  {
   "cell_type": "code",
   "execution_count": null,
   "metadata": {},
   "outputs": [],
   "source": []
  }
 ],
 "metadata": {
  "kernelspec": {
   "display_name": "Python 3",
   "language": "python",
   "name": "python3"
  },
  "language_info": {
   "codemirror_mode": {
    "name": "ipython",
    "version": 3
   },
   "file_extension": ".py",
   "mimetype": "text/x-python",
   "name": "python",
   "nbconvert_exporter": "python",
   "pygments_lexer": "ipython3",
   "version": "3.8.3"
  }
 },
 "nbformat": 4,
 "nbformat_minor": 4
}
