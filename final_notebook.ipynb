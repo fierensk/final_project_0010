{
 "cells": [
  {
   "cell_type": "markdown",
   "metadata": {},
   "source": [
    "Notebook Guidelines\n",
    "\n",
    "README: 5 points\n",
    "Code runs: 5 points\n",
    "Uses at least one dataset: 5 points\n",
    "Uses pandas: 10 points\n",
    "Uses visualization (eg. matplotlib, geopandas, etc.): 10 points\n",
    "Logical flow is coherent: 5 points\n",
    "Insightful conclusion: 10 points\n",
    "Overall quality: 5 points"
   ]
  },
  {
   "cell_type": "markdown",
   "metadata": {},
   "source": [
    "Presentation\n",
    "\n",
    "Introduction (motivation, context, etc.): 4 points\n",
    "Metric explanation: 5 points\n",
    "Dataset(s) explanation: 5 points\n",
    "Results explanation: 5 points\n",
    "Code explanation: 5 points\n",
    "Conclusion: 4 points\n",
    "Answers to peers’ questions: 5 points\n",
    "Timing: 2 points"
   ]
  },
  {
   "cell_type": "markdown",
   "metadata": {},
   "source": [
    "Introduction\n",
    "\"Introduce the project, your approach, talk about the process of how you came up with the metric and some alternatives you may have explored.\""
   ]
  },
  {
   "cell_type": "markdown",
   "metadata": {},
   "source": [
    "Metrics\n",
    "\"Describe your metric, what features are you measuring. What datasets are you using?\""
   ]
  },
  {
   "cell_type": "markdown",
   "metadata": {},
   "source": [
    "Datasets"
   ]
  },
  {
   "cell_type": "markdown",
   "metadata": {},
   "source": [
    "explanation of land pollution dataset"
   ]
  },
  {
   "cell_type": "code",
   "execution_count": null,
   "metadata": {},
   "outputs": [],
   "source": [
    "#land pollution code and graphs/heatmaps"
   ]
  },
  {
   "cell_type": "markdown",
   "metadata": {},
   "source": [
    "explanation of air pollution dataset"
   ]
  },
  {
   "cell_type": "code",
   "execution_count": null,
   "metadata": {},
   "outputs": [],
   "source": [
    "#air pollution code and graphs/heatmaps"
   ]
  },
  {
   "cell_type": "markdown",
   "metadata": {},
   "source": [
    "explanation of asbestos dataset"
   ]
  },
  {
   "cell_type": "code",
   "execution_count": null,
   "metadata": {},
   "outputs": [],
   "source": [
    "#asbestos code and graphs/heatmaps"
   ]
  },
  {
   "cell_type": "markdown",
   "metadata": {},
   "source": [
    "Results"
   ]
  },
  {
   "cell_type": "code",
   "execution_count": null,
   "metadata": {},
   "outputs": [],
   "source": [
    "#combined heatmap?"
   ]
  },
  {
   "cell_type": "markdown",
   "metadata": {},
   "source": [
    "Conclusion\n",
    "\"Reflect on how the data driven determination of “best neighborhood” is the same or different from your personal favorite neighborhood. Each member of the group should write their own response to this.\"\n",
    "\n",
    "Kate:\n",
    "\n",
    "Feyza:"
   ]
  }
 ],
 "metadata": {
  "kernelspec": {
   "display_name": "Python 3",
   "language": "python",
   "name": "python3"
  },
  "language_info": {
   "codemirror_mode": {
    "name": "ipython",
    "version": 3
   },
   "file_extension": ".py",
   "mimetype": "text/x-python",
   "name": "python",
   "nbconvert_exporter": "python",
   "pygments_lexer": "ipython3",
   "version": "3.8.3"
  }
 },
 "nbformat": 4,
 "nbformat_minor": 4
}
