{
 "cells": [
  {
   "cell_type": "code",
   "execution_count": null,
   "metadata": {},
   "outputs": [],
   "source": [
    "# use fsnippets to find permit location based on lat and long\n",
    "    # column names: latitude, longitude\n",
    "    # filter when none given\n",
    "# calculate activity in neighborhood by adding together square footage contaminated\n",
    "    # column name: square feet\n",
    "    #filter when none given"
   ]
  },
  {
   "cell_type": "code",
   "execution_count": 21,
   "metadata": {},
   "outputs": [],
   "source": [
    "#imports\n",
    "import pandas as pd\n",
    "import fpsnippets\n",
    "import geopandas\n",
    "\n",
    "#importing relevant columns\n",
    "asb = pd.read_csv(\"asbestos_dataset.csv\", usecols = ['city', 'square_feet', 'latitude','longitude'])\n",
    "\n",
    "#filtering out no given lat and long\n",
    "asb = asb[~asb.latitude.isnull()]\n",
    "\n",
    "#filtering out no given square feet\n",
    "asb = asb[~asb.square_feet.isnull()]\n",
    "\n",
    "#make a 2D array of neighborhoods and square footage of asbestos?\n",
    "\n",
    "#filtering out not in a pittsburgh neighborhood\n",
    "for row in asb:\n",
    "    #determine neighborhood of latitude and longitude\n",
    "    rownum = 0\n",
    "    lat = asb.iloc[rownum, 2]\n",
    "    long = asb.iloc[rownum, 3]\n",
    "    neighborhood = fpsnippets.geo_to_neighborhood(lat,long)\n",
    "    \n",
    "    #parse neighborhoods and associated square footage of asbestos with them\n",
    "    if neighborhood != 'None'\n",
    "        #if in 2D array\n",
    "            #add sq footage from this row to 2D array\n",
    "        #else\n",
    "            #add neighborhood to 2d array \n",
    "            #add square footage of row to 2d array\n",
    "    rownum = rownum +1\n"
   ]
  },
  {
   "cell_type": "code",
   "execution_count": null,
   "metadata": {},
   "outputs": [],
   "source": []
  }
 ],
 "metadata": {
  "kernelspec": {
   "display_name": "Python 3",
   "language": "python",
   "name": "python3"
  },
  "language_info": {
   "codemirror_mode": {
    "name": "ipython",
    "version": 3
   },
   "file_extension": ".py",
   "mimetype": "text/x-python",
   "name": "python",
   "nbconvert_exporter": "python",
   "pygments_lexer": "ipython3",
   "version": "3.8.3"
  }
 },
 "nbformat": 4,
 "nbformat_minor": 4
}
