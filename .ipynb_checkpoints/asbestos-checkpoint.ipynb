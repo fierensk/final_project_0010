{
 "cells": [
  {
   "cell_type": "code",
   "execution_count": 7,
   "metadata": {},
   "outputs": [],
   "source": [
    "import pandas as pd\n",
    "import fpsnippets"
   ]
  },
  {
   "cell_type": "code",
   "execution_count": null,
   "metadata": {},
   "outputs": [],
   "source": [
    "# use fsnippets to find permit location based on lat and long\n",
    "    # column names: latitude, longitude\n",
    "    # filter when none given\n",
    "# calculate activity in neighborhood by adding together square footage contaminated\n",
    "    # column name: square feet\n",
    "    #filter when none given"
   ]
  },
  {
   "cell_type": "code",
   "execution_count": 9,
   "metadata": {},
   "outputs": [
    {
     "data": {
      "text/html": [
       "<div>\n",
       "<style scoped>\n",
       "    .dataframe tbody tr th:only-of-type {\n",
       "        vertical-align: middle;\n",
       "    }\n",
       "\n",
       "    .dataframe tbody tr th {\n",
       "        vertical-align: top;\n",
       "    }\n",
       "\n",
       "    .dataframe thead th {\n",
       "        text-align: right;\n",
       "    }\n",
       "</style>\n",
       "<table border=\"1\" class=\"dataframe\">\n",
       "  <thead>\n",
       "    <tr style=\"text-align: right;\">\n",
       "      <th></th>\n",
       "      <th>_id,permit_number,s_name,s_address,city,z_code,p_fee,pa_license_no,contractor_name,permit_specifications,square_feet,is_the_building_occupied,i_date,e_date,achd_inspector,job_complete,is_permit_date_extended,permit_o_e_date,project_type,status,latitude,longitude</th>\n",
       "    </tr>\n",
       "  </thead>\n",
       "  <tbody>\n",
       "    <tr>\n",
       "      <th>6004</th>\n",
       "      <td>1757923,PAA150499,STRIP MALL-MOON TOWNSHIP,750...</td>\n",
       "    </tr>\n",
       "    <tr>\n",
       "      <th>200</th>\n",
       "      <td>1752119,PAA140374,UNIVERSITY OF PITTSBURGH MED...</td>\n",
       "    </tr>\n",
       "    <tr>\n",
       "      <th>5764</th>\n",
       "      <td>1757683,DEM210194,CITY OWNED PROPERTY,3201  WA...</td>\n",
       "    </tr>\n",
       "    <tr>\n",
       "      <th>5600</th>\n",
       "      <td>1757519,PAA230433,,1009 3RD STREET,CORAOPOLIS,...</td>\n",
       "    </tr>\n",
       "    <tr>\n",
       "      <th>4944</th>\n",
       "      <td>1756863,PAA150580,LUMBER YAED,1921 WOODVILLE A...</td>\n",
       "    </tr>\n",
       "    <tr>\n",
       "      <th>3731</th>\n",
       "      <td>1755650,PAA212016,BETTIS ATOMIC POWER LABORATO...</td>\n",
       "    </tr>\n",
       "    <tr>\n",
       "      <th>5669</th>\n",
       "      <td>1757588,PAA230149,VALUE CITY FURNITURE,451 CLA...</td>\n",
       "    </tr>\n",
       "    <tr>\n",
       "      <th>711</th>\n",
       "      <td>1752630,PAA190780,CHATHAM UNIVERSITY - ANDREW ...</td>\n",
       "    </tr>\n",
       "    <tr>\n",
       "      <th>2731</th>\n",
       "      <td>1754650,PAA200058,CARLYLE BUILDING - 304 FOURT...</td>\n",
       "    </tr>\n",
       "    <tr>\n",
       "      <th>4712</th>\n",
       "      <td>1756631,PAA230490,CMU HAMERSCHLAG HALL SUITE 1...</td>\n",
       "    </tr>\n",
       "  </tbody>\n",
       "</table>\n",
       "</div>"
      ],
      "text/plain": [
       "     _id,permit_number,s_name,s_address,city,z_code,p_fee,pa_license_no,contractor_name,permit_specifications,square_feet,is_the_building_occupied,i_date,e_date,achd_inspector,job_complete,is_permit_date_extended,permit_o_e_date,project_type,status,latitude,longitude\n",
       "6004  1757923,PAA150499,STRIP MALL-MOON TOWNSHIP,750...                                                                                                                                                                                                                    \n",
       "200   1752119,PAA140374,UNIVERSITY OF PITTSBURGH MED...                                                                                                                                                                                                                    \n",
       "5764  1757683,DEM210194,CITY OWNED PROPERTY,3201  WA...                                                                                                                                                                                                                    \n",
       "5600  1757519,PAA230433,,1009 3RD STREET,CORAOPOLIS,...                                                                                                                                                                                                                    \n",
       "4944  1756863,PAA150580,LUMBER YAED,1921 WOODVILLE A...                                                                                                                                                                                                                    \n",
       "3731  1755650,PAA212016,BETTIS ATOMIC POWER LABORATO...                                                                                                                                                                                                                    \n",
       "5669  1757588,PAA230149,VALUE CITY FURNITURE,451 CLA...                                                                                                                                                                                                                    \n",
       "711   1752630,PAA190780,CHATHAM UNIVERSITY - ANDREW ...                                                                                                                                                                                                                    \n",
       "2731  1754650,PAA200058,CARLYLE BUILDING - 304 FOURT...                                                                                                                                                                                                                    \n",
       "4712  1756631,PAA230490,CMU HAMERSCHLAG HALL SUITE 1...                                                                                                                                                                                                                    "
      ]
     },
     "execution_count": 9,
     "metadata": {},
     "output_type": "execute_result"
    }
   ],
   "source": [
    "asb = pd.read_csv(\"asbestos_dataset.csv\", sep=\"\\t\")\n",
    "asb.sample(10)"
   ]
  },
  {
   "cell_type": "code",
   "execution_count": null,
   "metadata": {},
   "outputs": [],
   "source": []
  }
 ],
 "metadata": {
  "kernelspec": {
   "display_name": "Python 3",
   "language": "python",
   "name": "python3"
  },
  "language_info": {
   "codemirror_mode": {
    "name": "ipython",
    "version": 3
   },
   "file_extension": ".py",
   "mimetype": "text/x-python",
   "name": "python",
   "nbconvert_exporter": "python",
   "pygments_lexer": "ipython3",
   "version": "3.8.3"
  }
 },
 "nbformat": 4,
 "nbformat_minor": 4
}
