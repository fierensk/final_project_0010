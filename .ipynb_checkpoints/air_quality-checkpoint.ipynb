{
 "cells": [
  {
   "cell_type": "code",
   "execution_count": 2,
   "metadata": {},
   "outputs": [],
   "source": [
    "import pandas as pd\n",
    "import fpsnippets"
   ]
  },
  {
   "cell_type": "markdown",
   "metadata": {},
   "source": [
    "# pared down to pittsburgh only\n",
    "# locate lat and long based on address\n",
    "    # download and use geopandas to parse\n",
    "# locate neighborhood using fsnippets\n",
    "    # unless geopandas can do straight to neighborhood\n",
    "# find release amount in weight per neighborhood\n",
    "    # column name: REL_EST_AMT\n",
    "    # filter when col = 0"
   ]
  },
  {
   "cell_type": "code",
   "execution_count": 4,
   "metadata": {},
   "outputs": [
    {
     "data": {
      "text/html": [
       "<div>\n",
       "<style scoped>\n",
       "    .dataframe tbody tr th:only-of-type {\n",
       "        vertical-align: middle;\n",
       "    }\n",
       "\n",
       "    .dataframe tbody tr th {\n",
       "        vertical-align: top;\n",
       "    }\n",
       "\n",
       "    .dataframe thead th {\n",
       "        text-align: right;\n",
       "    }\n",
       "</style>\n",
       "<table border=\"1\" class=\"dataframe\">\n",
       "  <thead>\n",
       "    <tr style=\"text-align: right;\">\n",
       "      <th></th>\n",
       "      <th>_id,TRI_FACILITY_ID,DOC_CTRL_NUM,FACILITY_NAME,STREET_ADDRESS,CITY_NAME,COUNTY_NAME,STATE_COUNTY_FIPS_CODE,STATE_ABBR,ZIP_CODE,REGION,FAC_CLOSED_IND,ASGN_FEDERAL_IND,ASGN_AGENCY,PARENT_CO_DB_NUM,PARENT_CO_NAME,STANDARDIZED_PARENT_COMPANY,EPA_REGISTRY_ID,TRADE_SECRET_IND,REPORTING_YEAR,CAS_NUM,ELEMENTAL_METAL_INCLUDED,CHEM_NAME,LIST_3350,CARCINOGEN,CLEAN_AIR,PRIMARY_SIC_CODE,SIC_CODES,PRIMARY_NAICS_CODE,NAICS_CODES,INDUSTRY_CODE,SRS_ID,PFAS_IND,ENVIRONMENTAL_MEDIUM,RELEASE_RANGE_CODE,TOTAL_RELEASE,REL_EST_AMT,RELEASE_NA,RELEASE_BASIS_EST_CODE</th>\n",
       "    </tr>\n",
       "  </thead>\n",
       "  <tbody>\n",
       "    <tr>\n",
       "      <th>741</th>\n",
       "      <td>418510,15233THVLS2000W,1394080186063,SHERWIN-W...</td>\n",
       "    </tr>\n",
       "    <tr>\n",
       "      <th>5474</th>\n",
       "      <td>431280,15201SNCNC5733B,1305203253618,SUNOCO PA...</td>\n",
       "    </tr>\n",
       "    <tr>\n",
       "      <th>6440</th>\n",
       "      <td>434987,15225SHNNG200NE,1310208310286,SHENANGO ...</td>\n",
       "    </tr>\n",
       "    <tr>\n",
       "      <th>4680</th>\n",
       "      <td>428861,15233ZMMRM2020K,1302200063170,E.E. ZIMM...</td>\n",
       "    </tr>\n",
       "    <tr>\n",
       "      <th>87</th>\n",
       "      <td>416788,15225CLGNC200NE,1397110386846,CALGON CA...</td>\n",
       "    </tr>\n",
       "    <tr>\n",
       "      <th>4090</th>\n",
       "      <td>427283,15226MTTHW1315W,1300140116765,MATTHEWS ...</td>\n",
       "    </tr>\n",
       "    <tr>\n",
       "      <th>4496</th>\n",
       "      <td>428531,15201SNCNC5733B,1301150503504,SUNOCO PA...</td>\n",
       "    </tr>\n",
       "    <tr>\n",
       "      <th>7875</th>\n",
       "      <td>440868,15226MTTHW1315W,1318217455322,MATTHEWS ...</td>\n",
       "    </tr>\n",
       "    <tr>\n",
       "      <th>6675</th>\n",
       "      <td>435876,15225SHNNG200NE,1311209405606,SHENANGO ...</td>\n",
       "    </tr>\n",
       "    <tr>\n",
       "      <th>6344</th>\n",
       "      <td>434811,15275SHNDN171IN,1309208077166,THERMO FI...</td>\n",
       "    </tr>\n",
       "  </tbody>\n",
       "</table>\n",
       "</div>"
      ],
      "text/plain": [
       "     _id,TRI_FACILITY_ID,DOC_CTRL_NUM,FACILITY_NAME,STREET_ADDRESS,CITY_NAME,COUNTY_NAME,STATE_COUNTY_FIPS_CODE,STATE_ABBR,ZIP_CODE,REGION,FAC_CLOSED_IND,ASGN_FEDERAL_IND,ASGN_AGENCY,PARENT_CO_DB_NUM,PARENT_CO_NAME,STANDARDIZED_PARENT_COMPANY,EPA_REGISTRY_ID,TRADE_SECRET_IND,REPORTING_YEAR,CAS_NUM,ELEMENTAL_METAL_INCLUDED,CHEM_NAME,LIST_3350,CARCINOGEN,CLEAN_AIR,PRIMARY_SIC_CODE,SIC_CODES,PRIMARY_NAICS_CODE,NAICS_CODES,INDUSTRY_CODE,SRS_ID,PFAS_IND,ENVIRONMENTAL_MEDIUM,RELEASE_RANGE_CODE,TOTAL_RELEASE,REL_EST_AMT,RELEASE_NA,RELEASE_BASIS_EST_CODE\n",
       "741   418510,15233THVLS2000W,1394080186063,SHERWIN-W...                                                                                                                                                                                                                                                                                                                                                                                                                                                                                                                 \n",
       "5474  431280,15201SNCNC5733B,1305203253618,SUNOCO PA...                                                                                                                                                                                                                                                                                                                                                                                                                                                                                                                 \n",
       "6440  434987,15225SHNNG200NE,1310208310286,SHENANGO ...                                                                                                                                                                                                                                                                                                                                                                                                                                                                                                                 \n",
       "4680  428861,15233ZMMRM2020K,1302200063170,E.E. ZIMM...                                                                                                                                                                                                                                                                                                                                                                                                                                                                                                                 \n",
       "87    416788,15225CLGNC200NE,1397110386846,CALGON CA...                                                                                                                                                                                                                                                                                                                                                                                                                                                                                                                 \n",
       "4090  427283,15226MTTHW1315W,1300140116765,MATTHEWS ...                                                                                                                                                                                                                                                                                                                                                                                                                                                                                                                 \n",
       "4496  428531,15201SNCNC5733B,1301150503504,SUNOCO PA...                                                                                                                                                                                                                                                                                                                                                                                                                                                                                                                 \n",
       "7875  440868,15226MTTHW1315W,1318217455322,MATTHEWS ...                                                                                                                                                                                                                                                                                                                                                                                                                                                                                                                 \n",
       "6675  435876,15225SHNNG200NE,1311209405606,SHENANGO ...                                                                                                                                                                                                                                                                                                                                                                                                                                                                                                                 \n",
       "6344  434811,15275SHNDN171IN,1309208077166,THERMO FI...                                                                                                                                                                                                                                                                                                                                                                                                                                                                                                                 "
      ]
     },
     "execution_count": 4,
     "metadata": {},
     "output_type": "execute_result"
    }
   ],
   "source": [
    "air = pd.read_csv(\"filtered_tri_air.csv\", sep=\"\\t\")\n",
    "air.sample(10)"
   ]
  },
  {
   "cell_type": "code",
   "execution_count": null,
   "metadata": {},
   "outputs": [],
   "source": []
  }
 ],
 "metadata": {
  "kernelspec": {
   "display_name": "Python 3",
   "language": "python",
   "name": "python3"
  },
  "language_info": {
   "codemirror_mode": {
    "name": "ipython",
    "version": 3
   },
   "file_extension": ".py",
   "mimetype": "text/x-python",
   "name": "python",
   "nbconvert_exporter": "python",
   "pygments_lexer": "ipython3",
   "version": "3.8.3"
  }
 },
 "nbformat": 4,
 "nbformat_minor": 4
}
